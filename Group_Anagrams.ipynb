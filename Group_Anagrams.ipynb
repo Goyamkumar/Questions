{
 "cells": [
  {
   "attachments": {},
   "cell_type": "markdown",
   "metadata": {},
   "source": [
    "<font size=\"20\" >**`Anagrams`**</font> \n",
    "<br> \n",
    "are words formed by rearranging the letters of another word, \n",
    "<br>For example, car and arc, cat and act, etc. "
   ]
  },
  {
   "cell_type": "code",
   "execution_count": 1,
   "metadata": {
    "tags": []
   },
   "outputs": [],
   "source": [
    "from collections import defaultdict\n",
    "# list_word = ['tea','eat','bat','ate','arc','car']\n",
    "def Group_Anagrams(list_word):\n",
    "    # defaultdict is a similar to dictionary that helps \n",
    "    # us to make in a dictionary in a list, set ,etc.\n",
    "    list_of_words = defaultdict(list)\n",
    "    # checking for each word from list_word\n",
    "    for word in list_word:\n",
    "        # breaking the word in single letter and sorting them\n",
    "        sort_i = ''.join(sorted(word))\n",
    "        # putting the word in the list_of_words which has same sort_i values which will come to like \n",
    "        # eg. [tea,eat,ate],[bat],[arc,car]\n",
    "        list_of_words[sort_i].append(word)\n",
    "    \n",
    "    return list_of_words\n",
    "        "
   ]
  },
  {
   "cell_type": "code",
   "execution_count": 3,
   "metadata": {},
   "outputs": [
    {
     "name": "stdout",
     "output_type": "stream",
     "text": [
      "defaultdict(<class 'list'>, {'aet': ['tea', 'eat', 'ate'], 'abt': ['bat'], 'acr': ['arc', 'car']})\n"
     ]
    }
   ],
   "source": [
    "# Lets take an input\n",
    "list_word = ['tea','eat','bat','ate','arc','car']\n",
    "# Calling the function\n",
    "smp1 = Group_Anagrams(list_word)\n",
    "\n",
    "print(smp1)"
   ]
  },
  {
   "attachments": {},
   "cell_type": "markdown",
   "metadata": {},
   "source": [
    "2273. Find Resultant Array After Removing Anagrams<br>\n",
    "You are given a 0-indexed string array words, where words[i] consists of lowercase English letters.<br>\n",
    "\n",
    "In one operation, select any index i such that 0 < i < words.length and words[i - 1] and words[i] are anagrams, and delete words[i] from words. Keep <br>performing this operation as long as you can select an index that satisfies the conditions.\n",
    "\n",
    "Return words after performing all operations. It can be shown that selecting the indices for each operation in any arbitrary order will lead to the same <br>result.\n",
    "\n",
    "An Anagram is a word or phrase formed by rearranging the letters of a different word or phrase using all the original letters exactly once. For example, <br>\"dacb\" is an anagram of \"abdc\".\n",
    "\n",
    " <br>\n",
    "\n",
    "Example 1:\n",
    "<br>\n",
    "Input: words = [\"abba\",\"baba\",\"bbaa\",\"cd\",\"cd\"]<br>\n",
    "Output: [\"abba\",\"cd\"]<br>\n",
    "Explanation:<br>\n",
    "One of the ways we can obtain the resultant array is by using the following operations:<br>\n",
    "- Since words[2] = \"bbaa\" and words[1] = \"baba\" are anagrams, we choose index 2 and delete words[2].<br>\n",
    "  Now words = [\"abba\",\"baba\",\"cd\",\"cd\"].<br>\n",
    "- Since words[1] = \"baba\" and words[0] = \"abba\" are anagrams, we choose index 1 and delete words[1].<br>\n",
    "  Now words = [\"abba\",\"cd\",\"cd\"].<br>\n",
    "- Since words[2] = \"cd\" and words[1] = \"cd\" are anagrams, we choose index 2 and delete words[2].<br>\n",
    "  Now words = [\"abba\",\"cd\"].<br>\n",
    "We can no longer perform any operations, so [\"abba\",\"cd\"] is the final answer.<br>"
   ]
  },
  {
   "cell_type": "code",
   "execution_count": 27,
   "metadata": {},
   "outputs": [
    {
     "data": {
      "text/plain": [
       "['abba', 'cd']"
      ]
     },
     "execution_count": 27,
     "metadata": {},
     "output_type": "execute_result"
    }
   ],
   "source": [
    "def wordsort(word):\n",
    "        sort_word = ''.join(sorted(word))\n",
    "        return sort_word\n",
    "def removeAnagrams(words):\n",
    "    word=0\n",
    "    while True:\n",
    "        if word == len(words)-1:\n",
    "            break\n",
    "        if wordsort(words[word]) == wordsort(words[word+1]):\n",
    "            words.pop(word+1)\n",
    "            word-=1\n",
    "        word+=1\n",
    "    return words\n",
    "\n",
    "list_word =[\"abba\",\"baba\",\"bbaa\",\"cd\",\"cd\"]\n",
    "removeAnagrams(list_word)"
   ]
  }
 ],
 "metadata": {
  "kernelspec": {
   "display_name": "Python 3",
   "language": "python",
   "name": "python3"
  },
  "language_info": {
   "codemirror_mode": {
    "name": "ipython",
    "version": 3
   },
   "file_extension": ".py",
   "mimetype": "text/x-python",
   "name": "python",
   "nbconvert_exporter": "python",
   "pygments_lexer": "ipython3",
   "version": "3.11.1"
  },
  "orig_nbformat": 4
 },
 "nbformat": 4,
 "nbformat_minor": 2
}
